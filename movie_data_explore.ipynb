{
 "cells": [
  {
   "cell_type": "markdown",
   "metadata": {},
   "source": [
    "# Project: Investigate a Dataset (Replace this with something more specific!)\n",
    "\n",
    "## Table of Contents\n",
    "<ul>\n",
    "<li><a href=\"#intro\">Introduction</a></li>\n",
    "<li><a href=\"#wrangling\">Data Wrangling</a></li>\n",
    "<li><a href=\"#eda\">Exploratory Data Analysis</a></li>\n",
    "<li><a href=\"#conclusions\">Conclusions</a></li>\n",
    "</ul>"
   ]
  },
  {
   "cell_type": "markdown",
   "metadata": {},
   "source": [
    "<a id='intro'></a>\n",
    "## Introduction\n",
    "\n",
    "> For this project, movie data is selected for investigation. The dataset includes movies data back from 50s till 2015. As a movie fan and complete outsider of movie industry, my goal with this investidation is to find out facts about movie industry history and gain insights about movie industry. Question I want to answer will be:\n",
    "<ul>\n",
    "<li> To find out top ranking movies and directors in terms of different evaluation standard; </li>\n",
    "<li> If movies with high voted score make more money; </li>\n",
    "<li> How do movies of differen genres perform in terms of market success and audience voting; </li>\n",
    "</ul>"
   ]
  },
  {
   "cell_type": "code",
   "execution_count": 2,
   "metadata": {
    "collapsed": true,
    "scrolled": true
   },
   "outputs": [],
   "source": [
    "\n",
    "# Use this cell to set up import statements for all of the packages that you\n",
    "#   plan to use.\n",
    " \n",
    "import pandas as pd\n",
    "import numpy as np\n",
    "import matplotlib.pyplot as plt\n",
    "\n",
    "\n",
    "# Remember to include a 'magic word' so that your visualizations are plotted\n",
    "#   inline with the notebook. See this page for more:\n",
    "#   http://ipython.readthedocs.io/en/stable/interactive/magics.html\n",
    "% matplotlib inline"
   ]
  },
  {
   "cell_type": "markdown",
   "metadata": {},
   "source": [
    "<a id='wrangling'></a>\n",
    "## Data Wrangling\n",
    "\n",
    "> **Tip**: In this section of the report, you will load in the data, check for cleanliness, and then trim and clean your dataset for analysis. Make sure that you document your steps carefully and justify your cleaning decisions.\n",
    "\n",
    "### General Properties"
   ]
  },
  {
   "cell_type": "code",
   "execution_count": 84,
   "metadata": {},
   "outputs": [
    {
     "name": "stdout",
     "output_type": "stream",
     "text": [
      "<class 'pandas.core.frame.DataFrame'>\n",
      "RangeIndex: 10866 entries, 0 to 10865\n",
      "Data columns (total 21 columns):\n",
      "id                      10866 non-null int64\n",
      "imdb_id                 10856 non-null object\n",
      "popularity              10866 non-null float64\n",
      "budget                  10866 non-null int64\n",
      "revenue                 10866 non-null int64\n",
      "original_title          10866 non-null object\n",
      "cast                    10790 non-null object\n",
      "homepage                2936 non-null object\n",
      "director                10822 non-null object\n",
      "tagline                 8042 non-null object\n",
      "keywords                9373 non-null object\n",
      "overview                10862 non-null object\n",
      "runtime                 10866 non-null int64\n",
      "genres                  10843 non-null object\n",
      "production_companies    9836 non-null object\n",
      "release_date            10866 non-null object\n",
      "vote_count              10866 non-null int64\n",
      "vote_average            10866 non-null float64\n",
      "release_year            10866 non-null int64\n",
      "budget_adj              10866 non-null float64\n",
      "revenue_adj             10866 non-null float64\n",
      "dtypes: float64(4), int64(6), object(11)\n",
      "memory usage: 1.7+ MB\n"
     ]
    }
   ],
   "source": [
    "# Load your data and print out a few lines. Perform operations to inspect data\n",
    "#   types and look for instances of missing or possibly errant data.\n",
    "df = pd.read_csv(\"movies.csv\")\n",
    "#df.info()\n",
    "df.drop_duplicates()\n",
    "df.info()"
   ]
  },
  {
   "cell_type": "markdown",
   "metadata": {},
   "source": [
    "> **Tip**: You should _not_ perform too many operations in each cell. Create cells freely to explore your data. One option that you can take with this project is to do a lot of explorations in an initial notebook. These don't have to be organized, but make sure you use enough comments to understand the purpose of each code cell. Then, after you're done with your analysis, create a duplicate notebook where you will trim the excess and organize your steps so that you have a flowing, cohesive report.\n",
    "\n",
    "> **Tip**: Make sure that you keep your reader informed on the steps that you are taking in your investigation. Follow every code cell, or every set of related code cells, with a markdown cell to describe to the reader what was found in the preceding cell(s). Try to make it so that the reader can then understand what they will be seeing in the following cell(s).\n",
    "\n",
    "### Data Cleaning (Replace this with more specific notes!)"
   ]
  },
  {
   "cell_type": "code",
   "execution_count": 85,
   "metadata": {},
   "outputs": [
    {
     "data": {
      "text/html": [
       "<div>\n",
       "<style>\n",
       "    .dataframe thead tr:only-child th {\n",
       "        text-align: right;\n",
       "    }\n",
       "\n",
       "    .dataframe thead th {\n",
       "        text-align: left;\n",
       "    }\n",
       "\n",
       "    .dataframe tbody tr th {\n",
       "        vertical-align: top;\n",
       "    }\n",
       "</style>\n",
       "<table border=\"1\" class=\"dataframe\">\n",
       "  <thead>\n",
       "    <tr style=\"text-align: right;\">\n",
       "      <th></th>\n",
       "      <th>popularity</th>\n",
       "      <th>original_title</th>\n",
       "      <th>cast</th>\n",
       "      <th>director</th>\n",
       "      <th>genres</th>\n",
       "      <th>production_companies</th>\n",
       "      <th>release_date</th>\n",
       "      <th>vote_average</th>\n",
       "      <th>release_year</th>\n",
       "      <th>budget</th>\n",
       "      <th>revenue</th>\n",
       "    </tr>\n",
       "  </thead>\n",
       "  <tbody>\n",
       "    <tr>\n",
       "      <th>0</th>\n",
       "      <td>32.985763</td>\n",
       "      <td>Jurassic World</td>\n",
       "      <td>Chris Pratt|Bryce Dallas Howard|Irrfan Khan|Vi...</td>\n",
       "      <td>Colin Trevorrow</td>\n",
       "      <td>Action|Adventure|Science Fiction|Thriller</td>\n",
       "      <td>Universal Studios|Amblin Entertainment|Legenda...</td>\n",
       "      <td>6/9/15</td>\n",
       "      <td>6.5</td>\n",
       "      <td>2015</td>\n",
       "      <td>1.379999e+08</td>\n",
       "      <td>1.392446e+09</td>\n",
       "    </tr>\n",
       "  </tbody>\n",
       "</table>\n",
       "</div>"
      ],
      "text/plain": [
       "   popularity  original_title  \\\n",
       "0   32.985763  Jurassic World   \n",
       "\n",
       "                                                cast         director  \\\n",
       "0  Chris Pratt|Bryce Dallas Howard|Irrfan Khan|Vi...  Colin Trevorrow   \n",
       "\n",
       "                                      genres  \\\n",
       "0  Action|Adventure|Science Fiction|Thriller   \n",
       "\n",
       "                                production_companies release_date  \\\n",
       "0  Universal Studios|Amblin Entertainment|Legenda...       6/9/15   \n",
       "\n",
       "   vote_average  release_year        budget       revenue  \n",
       "0           6.5          2015  1.379999e+08  1.392446e+09  "
      ]
     },
     "execution_count": 85,
     "metadata": {},
     "output_type": "execute_result"
    }
   ],
   "source": [
    "# After discussing the structure of the data and any problems that need to be\n",
    "#   cleaned, perform those cleaning steps in the second part of this section.\n",
    "\n",
    "#remove non-interesting columns\n",
    "del df['tagline']\n",
    "del df['overview']\n",
    "del df['revenue']\n",
    "del df['budget']\n",
    "del df['vote_count']\n",
    "del df['runtime']\n",
    "del df['keywords']\n",
    "del df['imdb_id']\n",
    "del df['id']\n",
    "del df['homepage']\n",
    "#rename budget_adj, revenue_adj to simply budget and revenue\n",
    "df.rename(columns={'budget_adj':'budget', 'revenue_adj':'revenue'}, inplace=True)\n",
    "df.head(1)\n"
   ]
  },
  {
   "cell_type": "code",
   "execution_count": 86,
   "metadata": {
    "collapsed": true,
    "scrolled": true
   },
   "outputs": [],
   "source": [
    "# remove empty/ missing info lines\n",
    "\n",
    "#df.dropna(inplace = True)\n",
    "df.to_csv('movie_reduced.csv')\n"
   ]
  },
  {
   "cell_type": "markdown",
   "metadata": {},
   "source": [
    "<a id='eda'></a>\n",
    "## Exploratory Data Analysis\n",
    "\n",
    "\n",
    "### Research Question 1 Is there high/low season for movie release?"
   ]
  },
  {
   "cell_type": "code",
   "execution_count": 87,
   "metadata": {},
   "outputs": [
    {
     "data": {
      "text/plain": [
       "<matplotlib.axes._subplots.AxesSubplot at 0x27dcbb97ba8>"
      ]
     },
     "execution_count": 87,
     "metadata": {},
     "output_type": "execute_result"
    },
    {
     "data": {
      "image/png": "[encoded data removed]",
      "text/plain": [
       "<matplotlib.figure.Figure at 0x27dcbbe1f98>"
      ]
     },
     "metadata": {},
     "output_type": "display_data"
    }
   ],
   "source": [
    "#convert time to date format\n",
    "df = pd.read_csv('movie_reduced.csv', encoding = \"ISO-8859-1\")\n",
    "df['release_date'] = pd.to_datetime(df['release_date'])\n",
    "df['rel_month'] = df['release_date'].dt.month\n",
    "month_ind = sorted(df['rel_month'].value_counts().index)\n",
    "\n",
    "#plot the monthly distribution of movie release\n",
    "df['rel_month'].value_counts()[month_ind].plot(kind='bar')                  "
   ]
  },
  {
   "cell_type": "markdown",
   "metadata": {},
   "source": [
    "> The above graph shows that there are more movies released during the second half of the year, where release peaks in September, and lowest month is in Feburary."
   ]
  },
  {
   "cell_type": "code",
   "execution_count": 88,
   "metadata": {},
   "outputs": [
    {
     "data": {
      "text/plain": [
       "<matplotlib.axes._subplots.AxesSubplot at 0x27dcbb9c0b8>"
      ]
     },
     "execution_count": 88,
     "metadata": {},
     "output_type": "execute_result"
    },
    {
     "data": {
      "image/png": "[encoded data removed]",
      "text/plain": [
       "<matplotlib.figure.Figure at 0x27dcbb5d320>"
      ]
     },
     "metadata": {},
     "output_type": "display_data"
    }
   ],
   "source": [
    "#If movie performance differs among release month?\n",
    "#plot the average voted score among release month\n",
    "df.groupby('rel_month')['vote_average'].mean()[month_ind].plot(kind='bar')  "
   ]
  },
  {
   "cell_type": "markdown",
   "metadata": {},
   "source": [
    "<a id='eda'></a>\n",
    "### Research Question 2 Explore several Top 10s in movie industry  \n",
    "\n",
    "> following cells are used to show top 10 movies in terms of popularity and vote average; Top 10 directors in terms of directing movies with highest voted score and directing the highest amount of movies "
   ]
  },
  {
   "cell_type": "code",
   "execution_count": 89,
   "metadata": {},
   "outputs": [
    {
     "data": {
      "text/html": [
       "<div>\n",
       "<style>\n",
       "    .dataframe thead tr:only-child th {\n",
       "        text-align: right;\n",
       "    }\n",
       "\n",
       "    .dataframe thead th {\n",
       "        text-align: left;\n",
       "    }\n",
       "\n",
       "    .dataframe tbody tr th {\n",
       "        vertical-align: top;\n",
       "    }\n",
       "</style>\n",
       "<table border=\"1\" class=\"dataframe\">\n",
       "  <thead>\n",
       "    <tr style=\"text-align: right;\">\n",
       "      <th></th>\n",
       "      <th>Unnamed: 0</th>\n",
       "      <th>popularity</th>\n",
       "      <th>original_title</th>\n",
       "      <th>cast</th>\n",
       "      <th>director</th>\n",
       "      <th>genres</th>\n",
       "      <th>production_companies</th>\n",
       "      <th>release_date</th>\n",
       "      <th>vote_average</th>\n",
       "      <th>release_year</th>\n",
       "      <th>budget</th>\n",
       "      <th>revenue</th>\n",
       "      <th>rel_month</th>\n",
       "    </tr>\n",
       "  </thead>\n",
       "  <tbody>\n",
       "    <tr>\n",
       "      <th>0</th>\n",
       "      <td>0</td>\n",
       "      <td>32.985763</td>\n",
       "      <td>Jurassic World</td>\n",
       "      <td>Chris Pratt|Bryce Dallas Howard|Irrfan Khan|Vi...</td>\n",
       "      <td>Colin Trevorrow</td>\n",
       "      <td>Action|Adventure|Science Fiction|Thriller</td>\n",
       "      <td>Universal Studios|Amblin Entertainment|Legenda...</td>\n",
       "      <td>2015-06-09</td>\n",
       "      <td>6.5</td>\n",
       "      <td>2015</td>\n",
       "      <td>1.379999e+08</td>\n",
       "      <td>1.392446e+09</td>\n",
       "      <td>6</td>\n",
       "    </tr>\n",
       "    <tr>\n",
       "      <th>1</th>\n",
       "      <td>1</td>\n",
       "      <td>28.419936</td>\n",
       "      <td>Mad Max: Fury Road</td>\n",
       "      <td>Tom Hardy|Charlize Theron|Hugh Keays-Byrne|Nic...</td>\n",
       "      <td>George Miller</td>\n",
       "      <td>Action|Adventure|Science Fiction|Thriller</td>\n",
       "      <td>Village Roadshow Pictures|Kennedy Miller Produ...</td>\n",
       "      <td>2015-05-13</td>\n",
       "      <td>7.1</td>\n",
       "      <td>2015</td>\n",
       "      <td>1.379999e+08</td>\n",
       "      <td>3.481613e+08</td>\n",
       "      <td>5</td>\n",
       "    </tr>\n",
       "    <tr>\n",
       "      <th>629</th>\n",
       "      <td>629</td>\n",
       "      <td>24.949134</td>\n",
       "      <td>Interstellar</td>\n",
       "      <td>Matthew McConaughey|Jessica Chastain|Anne Hath...</td>\n",
       "      <td>Christopher Nolan</td>\n",
       "      <td>Adventure|Drama|Science Fiction</td>\n",
       "      <td>Paramount Pictures|Legendary Pictures|Warner B...</td>\n",
       "      <td>2014-11-05</td>\n",
       "      <td>8.0</td>\n",
       "      <td>2014</td>\n",
       "      <td>1.519800e+08</td>\n",
       "      <td>5.726906e+08</td>\n",
       "      <td>11</td>\n",
       "    </tr>\n",
       "    <tr>\n",
       "      <th>630</th>\n",
       "      <td>630</td>\n",
       "      <td>14.311205</td>\n",
       "      <td>Guardians of the Galaxy</td>\n",
       "      <td>Chris Pratt|Zoe Saldana|Dave Bautista|Vin Dies...</td>\n",
       "      <td>James Gunn</td>\n",
       "      <td>Action|Science Fiction|Adventure</td>\n",
       "      <td>Marvel Studios|Moving Picture Company (MPC)|Bu...</td>\n",
       "      <td>2014-07-30</td>\n",
       "      <td>7.9</td>\n",
       "      <td>2014</td>\n",
       "      <td>1.565855e+08</td>\n",
       "      <td>7.122911e+08</td>\n",
       "      <td>7</td>\n",
       "    </tr>\n",
       "    <tr>\n",
       "      <th>2</th>\n",
       "      <td>2</td>\n",
       "      <td>13.112507</td>\n",
       "      <td>Insurgent</td>\n",
       "      <td>Shailene Woodley|Theo James|Kate Winslet|Ansel...</td>\n",
       "      <td>Robert Schwentke</td>\n",
       "      <td>Adventure|Science Fiction|Thriller</td>\n",
       "      <td>Summit Entertainment|Mandeville Films|Red Wago...</td>\n",
       "      <td>2015-03-18</td>\n",
       "      <td>6.3</td>\n",
       "      <td>2015</td>\n",
       "      <td>1.012000e+08</td>\n",
       "      <td>2.716190e+08</td>\n",
       "      <td>3</td>\n",
       "    </tr>\n",
       "    <tr>\n",
       "      <th>631</th>\n",
       "      <td>631</td>\n",
       "      <td>12.971027</td>\n",
       "      <td>Captain America: The Winter Soldier</td>\n",
       "      <td>Chris Evans|Scarlett Johansson|Sebastian Stan|...</td>\n",
       "      <td>Joe Russo|Anthony Russo</td>\n",
       "      <td>Action|Adventure|Science Fiction</td>\n",
       "      <td>Marvel Studios</td>\n",
       "      <td>2014-03-20</td>\n",
       "      <td>7.6</td>\n",
       "      <td>2014</td>\n",
       "      <td>1.565855e+08</td>\n",
       "      <td>6.583651e+08</td>\n",
       "      <td>3</td>\n",
       "    </tr>\n",
       "    <tr>\n",
       "      <th>1329</th>\n",
       "      <td>1329</td>\n",
       "      <td>12.037933</td>\n",
       "      <td>Star Wars</td>\n",
       "      <td>Mark Hamill|Harrison Ford|Carrie Fisher|Peter ...</td>\n",
       "      <td>George Lucas</td>\n",
       "      <td>Adventure|Action|Science Fiction</td>\n",
       "      <td>Lucasfilm|Twentieth Century Fox Film Corporation</td>\n",
       "      <td>1977-03-20</td>\n",
       "      <td>7.9</td>\n",
       "      <td>1977</td>\n",
       "      <td>3.957559e+07</td>\n",
       "      <td>2.789712e+09</td>\n",
       "      <td>3</td>\n",
       "    </tr>\n",
       "    <tr>\n",
       "      <th>632</th>\n",
       "      <td>632</td>\n",
       "      <td>11.422751</td>\n",
       "      <td>John Wick</td>\n",
       "      <td>Keanu Reeves|Michael Nyqvist|Alfie Allen|Wille...</td>\n",
       "      <td>Chad Stahelski|David Leitch</td>\n",
       "      <td>Action|Thriller</td>\n",
       "      <td>Thunder Road Pictures|Warner Bros.|87Eleven|De...</td>\n",
       "      <td>2014-10-22</td>\n",
       "      <td>7.0</td>\n",
       "      <td>2014</td>\n",
       "      <td>1.842182e+07</td>\n",
       "      <td>7.252661e+07</td>\n",
       "      <td>10</td>\n",
       "    </tr>\n",
       "    <tr>\n",
       "      <th>3</th>\n",
       "      <td>3</td>\n",
       "      <td>11.173104</td>\n",
       "      <td>Star Wars: The Force Awakens</td>\n",
       "      <td>Harrison Ford|Mark Hamill|Carrie Fisher|Adam D...</td>\n",
       "      <td>J.J. Abrams</td>\n",
       "      <td>Action|Adventure|Science Fiction|Fantasy</td>\n",
       "      <td>Lucasfilm|Truenorth Productions|Bad Robot</td>\n",
       "      <td>2015-12-15</td>\n",
       "      <td>7.5</td>\n",
       "      <td>2015</td>\n",
       "      <td>1.839999e+08</td>\n",
       "      <td>1.902723e+09</td>\n",
       "      <td>12</td>\n",
       "    </tr>\n",
       "    <tr>\n",
       "      <th>633</th>\n",
       "      <td>633</td>\n",
       "      <td>10.739009</td>\n",
       "      <td>The Hunger Games: Mockingjay - Part 1</td>\n",
       "      <td>Jennifer Lawrence|Josh Hutcherson|Liam Hemswor...</td>\n",
       "      <td>Francis Lawrence</td>\n",
       "      <td>Science Fiction|Adventure|Thriller</td>\n",
       "      <td>Lionsgate|Color Force</td>\n",
       "      <td>2014-11-18</td>\n",
       "      <td>6.6</td>\n",
       "      <td>2014</td>\n",
       "      <td>1.151364e+08</td>\n",
       "      <td>6.927528e+08</td>\n",
       "      <td>11</td>\n",
       "    </tr>\n",
       "  </tbody>\n",
       "</table>\n",
       "</div>"
      ],
      "text/plain": [
       "      Unnamed: 0  popularity                         original_title  \\\n",
       "0              0   32.985763                         Jurassic World   \n",
       "1              1   28.419936                     Mad Max: Fury Road   \n",
       "629          629   24.949134                           Interstellar   \n",
       "630          630   14.311205                Guardians of the Galaxy   \n",
       "2              2   13.112507                              Insurgent   \n",
       "631          631   12.971027    Captain America: The Winter Soldier   \n",
       "1329        1329   12.037933                              Star Wars   \n",
       "632          632   11.422751                              John Wick   \n",
       "3              3   11.173104           Star Wars: The Force Awakens   \n",
       "633          633   10.739009  The Hunger Games: Mockingjay - Part 1   \n",
       "\n",
       "                                                   cast  \\\n",
       "0     Chris Pratt|Bryce Dallas Howard|Irrfan Khan|Vi...   \n",
       "1     Tom Hardy|Charlize Theron|Hugh Keays-Byrne|Nic...   \n",
       "629   Matthew McConaughey|Jessica Chastain|Anne Hath...   \n",
       "630   Chris Pratt|Zoe Saldana|Dave Bautista|Vin Dies...   \n",
       "2     Shailene Woodley|Theo James|Kate Winslet|Ansel...   \n",
       "631   Chris Evans|Scarlett Johansson|Sebastian Stan|...   \n",
       "1329  Mark Hamill|Harrison Ford|Carrie Fisher|Peter ...   \n",
       "632   Keanu Reeves|Michael Nyqvist|Alfie Allen|Wille...   \n",
       "3     Harrison Ford|Mark Hamill|Carrie Fisher|Adam D...   \n",
       "633   Jennifer Lawrence|Josh Hutcherson|Liam Hemswor...   \n",
       "\n",
       "                         director                                     genres  \\\n",
       "0                 Colin Trevorrow  Action|Adventure|Science Fiction|Thriller   \n",
       "1                   George Miller  Action|Adventure|Science Fiction|Thriller   \n",
       "629             Christopher Nolan            Adventure|Drama|Science Fiction   \n",
       "630                    James Gunn           Action|Science Fiction|Adventure   \n",
       "2                Robert Schwentke         Adventure|Science Fiction|Thriller   \n",
       "631       Joe Russo|Anthony Russo           Action|Adventure|Science Fiction   \n",
       "1329                 George Lucas           Adventure|Action|Science Fiction   \n",
       "632   Chad Stahelski|David Leitch                            Action|Thriller   \n",
       "3                     J.J. Abrams   Action|Adventure|Science Fiction|Fantasy   \n",
       "633              Francis Lawrence         Science Fiction|Adventure|Thriller   \n",
       "\n",
       "                                   production_companies release_date  \\\n",
       "0     Universal Studios|Amblin Entertainment|Legenda...   2015-06-09   \n",
       "1     Village Roadshow Pictures|Kennedy Miller Produ...   2015-05-13   \n",
       "629   Paramount Pictures|Legendary Pictures|Warner B...   2014-11-05   \n",
       "630   Marvel Studios|Moving Picture Company (MPC)|Bu...   2014-07-30   \n",
       "2     Summit Entertainment|Mandeville Films|Red Wago...   2015-03-18   \n",
       "631                                      Marvel Studios   2014-03-20   \n",
       "1329   Lucasfilm|Twentieth Century Fox Film Corporation   1977-03-20   \n",
       "632   Thunder Road Pictures|Warner Bros.|87Eleven|De...   2014-10-22   \n",
       "3             Lucasfilm|Truenorth Productions|Bad Robot   2015-12-15   \n",
       "633                               Lionsgate|Color Force   2014-11-18   \n",
       "\n",
       "      vote_average  release_year        budget       revenue  rel_month  \n",
       "0              6.5          2015  1.379999e+08  1.392446e+09          6  \n",
       "1              7.1          2015  1.379999e+08  3.481613e+08          5  \n",
       "629            8.0          2014  1.519800e+08  5.726906e+08         11  \n",
       "630            7.9          2014  1.565855e+08  7.122911e+08          7  \n",
       "2              6.3          2015  1.012000e+08  2.716190e+08          3  \n",
       "631            7.6          2014  1.565855e+08  6.583651e+08          3  \n",
       "1329           7.9          1977  3.957559e+07  2.789712e+09          3  \n",
       "632            7.0          2014  1.842182e+07  7.252661e+07         10  \n",
       "3              7.5          2015  1.839999e+08  1.902723e+09         12  \n",
       "633            6.6          2014  1.151364e+08  6.927528e+08         11  "
      ]
     },
     "execution_count": 89,
     "metadata": {},
     "output_type": "execute_result"
    }
   ],
   "source": [
    "# top10 movie in terms of popularity\n",
    "df.nlargest(10, 'popularity')"
   ]
  },
  {
   "cell_type": "code",
   "execution_count": 90,
   "metadata": {
    "scrolled": true
   },
   "outputs": [
    {
     "data": {
      "text/html": [
       "<div>\n",
       "<style>\n",
       "    .dataframe thead tr:only-child th {\n",
       "        text-align: right;\n",
       "    }\n",
       "\n",
       "    .dataframe thead th {\n",
       "        text-align: left;\n",
       "    }\n",
       "\n",
       "    .dataframe tbody tr th {\n",
       "        vertical-align: top;\n",
       "    }\n",
       "</style>\n",
       "<table border=\"1\" class=\"dataframe\">\n",
       "  <thead>\n",
       "    <tr style=\"text-align: right;\">\n",
       "      <th></th>\n",
       "      <th>Unnamed: 0</th>\n",
       "      <th>popularity</th>\n",
       "      <th>original_title</th>\n",
       "      <th>cast</th>\n",
       "      <th>director</th>\n",
       "      <th>genres</th>\n",
       "      <th>production_companies</th>\n",
       "      <th>release_date</th>\n",
       "      <th>vote_average</th>\n",
       "      <th>release_year</th>\n",
       "      <th>budget</th>\n",
       "      <th>revenue</th>\n",
       "      <th>rel_month</th>\n",
       "    </tr>\n",
       "  </thead>\n",
       "  <tbody>\n",
       "    <tr>\n",
       "      <th>3894</th>\n",
       "      <td>3894</td>\n",
       "      <td>0.006925</td>\n",
       "      <td>The Story of Film: An Odyssey</td>\n",
       "      <td>Mark Cousins|Jean-Michel Frodon|Cari Beauchamp...</td>\n",
       "      <td>Mark Cousins</td>\n",
       "      <td>Documentary</td>\n",
       "      <td>NaN</td>\n",
       "      <td>2011-09-03</td>\n",
       "      <td>9.2</td>\n",
       "      <td>2011</td>\n",
       "      <td>0.0</td>\n",
       "      <td>0.0</td>\n",
       "      <td>9</td>\n",
       "    </tr>\n",
       "    <tr>\n",
       "      <th>538</th>\n",
       "      <td>538</td>\n",
       "      <td>0.114264</td>\n",
       "      <td>The Mask You Live In</td>\n",
       "      <td>NaN</td>\n",
       "      <td>Jennifer Siebel Newsom</td>\n",
       "      <td>Documentary</td>\n",
       "      <td>NaN</td>\n",
       "      <td>2015-01-01</td>\n",
       "      <td>8.9</td>\n",
       "      <td>2015</td>\n",
       "      <td>0.0</td>\n",
       "      <td>0.0</td>\n",
       "      <td>1</td>\n",
       "    </tr>\n",
       "    <tr>\n",
       "      <th>1200</th>\n",
       "      <td>1200</td>\n",
       "      <td>0.129531</td>\n",
       "      <td>Black Mirror: White Christmas</td>\n",
       "      <td>Jon Hamm|Rafe Spall|Oona Chaplin|Natalia Tena|...</td>\n",
       "      <td>Carl Tibbetts</td>\n",
       "      <td>Drama|Horror|Mystery|Science Fiction|Thriller</td>\n",
       "      <td>NaN</td>\n",
       "      <td>2014-12-16</td>\n",
       "      <td>8.8</td>\n",
       "      <td>2014</td>\n",
       "      <td>0.0</td>\n",
       "      <td>0.0</td>\n",
       "      <td>12</td>\n",
       "    </tr>\n",
       "    <tr>\n",
       "      <th>2269</th>\n",
       "      <td>2269</td>\n",
       "      <td>0.222293</td>\n",
       "      <td>Life Cycles</td>\n",
       "      <td>NaN</td>\n",
       "      <td>Derek Frankowski</td>\n",
       "      <td>Documentary</td>\n",
       "      <td>NaN</td>\n",
       "      <td>2010-10-02</td>\n",
       "      <td>8.8</td>\n",
       "      <td>2010</td>\n",
       "      <td>0.0</td>\n",
       "      <td>0.0</td>\n",
       "      <td>10</td>\n",
       "    </tr>\n",
       "    <tr>\n",
       "      <th>6911</th>\n",
       "      <td>6911</td>\n",
       "      <td>0.212010</td>\n",
       "      <td>Pink Floyd: Pulse</td>\n",
       "      <td>David Gilmour|Nick Mason|Richard Wright|Sam Br...</td>\n",
       "      <td>David Mallet</td>\n",
       "      <td>Music</td>\n",
       "      <td>SMV Enterprises|Columbia Music Video|EMI</td>\n",
       "      <td>2006-07-09</td>\n",
       "      <td>8.7</td>\n",
       "      <td>2006</td>\n",
       "      <td>0.0</td>\n",
       "      <td>0.0</td>\n",
       "      <td>7</td>\n",
       "    </tr>\n",
       "    <tr>\n",
       "      <th>2401</th>\n",
       "      <td>2401</td>\n",
       "      <td>0.067753</td>\n",
       "      <td>Opeth: In Live Concert At The Royal Albert Hall</td>\n",
       "      <td>Mikael Ã",
       "kerfeldt|Martin \"Axe\" Axenrot|Martin ...</td>\n",
       "      <td>NaN</td>\n",
       "      <td>Music</td>\n",
       "      <td>NaN</td>\n",
       "      <td>2010-09-21</td>\n",
       "      <td>8.6</td>\n",
       "      <td>2010</td>\n",
       "      <td>0.0</td>\n",
       "      <td>0.0</td>\n",
       "      <td>9</td>\n",
       "    </tr>\n",
       "    <tr>\n",
       "      <th>3224</th>\n",
       "      <td>3224</td>\n",
       "      <td>0.224721</td>\n",
       "      <td>John Mayer: Where the Light Is Live in Los Ang...</td>\n",
       "      <td>John Mayer|Steve Jordan|Pino Palladino|David R...</td>\n",
       "      <td>NaN</td>\n",
       "      <td>Music</td>\n",
       "      <td>NaN</td>\n",
       "      <td>2008-07-01</td>\n",
       "      <td>8.5</td>\n",
       "      <td>2008</td>\n",
       "      <td>0.0</td>\n",
       "      <td>0.0</td>\n",
       "      <td>7</td>\n",
       "    </tr>\n",
       "    <tr>\n",
       "      <th>3690</th>\n",
       "      <td>3690</td>\n",
       "      <td>0.321341</td>\n",
       "      <td>The Art of Flight</td>\n",
       "      <td>Travis Rice|Nicolas Muller|Mark Landvik|Jake B...</td>\n",
       "      <td>Curt Morgan</td>\n",
       "      <td>Adventure|Documentary</td>\n",
       "      <td>Red Bull Media House|Brain Farm Digital Cinema</td>\n",
       "      <td>2011-09-08</td>\n",
       "      <td>8.5</td>\n",
       "      <td>2011</td>\n",
       "      <td>0.0</td>\n",
       "      <td>0.0</td>\n",
       "      <td>9</td>\n",
       "    </tr>\n",
       "    <tr>\n",
       "      <th>5830</th>\n",
       "      <td>5830</td>\n",
       "      <td>0.248944</td>\n",
       "      <td>Doctor Who: The Time of the Doctor</td>\n",
       "      <td>Matt Smith|Jenna Coleman</td>\n",
       "      <td>James Payne</td>\n",
       "      <td>NaN</td>\n",
       "      <td>NaN</td>\n",
       "      <td>2013-12-25</td>\n",
       "      <td>8.5</td>\n",
       "      <td>2013</td>\n",
       "      <td>0.0</td>\n",
       "      <td>0.0</td>\n",
       "      <td>12</td>\n",
       "    </tr>\n",
       "    <tr>\n",
       "      <th>8221</th>\n",
       "      <td>8221</td>\n",
       "      <td>0.194889</td>\n",
       "      <td>A Personal Journey with Martin Scorsese Throug...</td>\n",
       "      <td>Martin Scorsese|Brian De Palma|Gregory Peck|Fr...</td>\n",
       "      <td>Martin Scorsese|Michael Henry Wilson</td>\n",
       "      <td>Documentary</td>\n",
       "      <td>Miramax Films|British Film Institute (BFI)</td>\n",
       "      <td>1995-05-21</td>\n",
       "      <td>8.5</td>\n",
       "      <td>1995</td>\n",
       "      <td>0.0</td>\n",
       "      <td>0.0</td>\n",
       "      <td>5</td>\n",
       "    </tr>\n",
       "  </tbody>\n",
       "</table>\n",
       "</div>"
      ],
      "text/plain": [
       "      Unnamed: 0  popularity  \\\n",
       "3894        3894    0.006925   \n",
       "538          538    0.114264   \n",
       "1200        1200    0.129531   \n",
       "2269        2269    0.222293   \n",
       "6911        6911    0.212010   \n",
       "2401        2401    0.067753   \n",
       "3224        3224    0.224721   \n",
       "3690        3690    0.321341   \n",
       "5830        5830    0.248944   \n",
       "8221        8221    0.194889   \n",
       "\n",
       "                                         original_title  \\\n",
       "3894                      The Story of Film: An Odyssey   \n",
       "538                                The Mask You Live In   \n",
       "1200                      Black Mirror: White Christmas   \n",
       "2269                                        Life Cycles   \n",
       "6911                                  Pink Floyd: Pulse   \n",
       "2401    Opeth: In Live Concert At The Royal Albert Hall   \n",
       "3224  John Mayer: Where the Light Is Live in Los Ang...   \n",
       "3690                                  The Art of Flight   \n",
       "5830                 Doctor Who: The Time of the Doctor   \n",
       "8221  A Personal Journey with Martin Scorsese Throug...   \n",
       "\n",
       "                                                   cast  \\\n",
       "3894  Mark Cousins|Jean-Michel Frodon|Cari Beauchamp...   \n",
       "538                                                 NaN   \n",
       "1200  Jon Hamm|Rafe Spall|Oona Chaplin|Natalia Tena|...   \n",
       "2269                                                NaN   \n",
       "6911  David Gilmour|Nick Mason|Richard Wright|Sam Br...   \n",
       "2401  Mikael Ã\n",
       "kerfeldt|Martin \"Axe\" Axenrot|Martin ...   \n",
       "3224  John Mayer|Steve Jordan|Pino Palladino|David R...   \n",
       "3690  Travis Rice|Nicolas Muller|Mark Landvik|Jake B...   \n",
       "5830                           Matt Smith|Jenna Coleman   \n",
       "8221  Martin Scorsese|Brian De Palma|Gregory Peck|Fr...   \n",
       "\n",
       "                                  director  \\\n",
       "3894                          Mark Cousins   \n",
       "538                 Jennifer Siebel Newsom   \n",
       "1200                         Carl Tibbetts   \n",
       "2269                      Derek Frankowski   \n",
       "6911                          David Mallet   \n",
       "2401                                   NaN   \n",
       "3224                                   NaN   \n",
       "3690                           Curt Morgan   \n",
       "5830                           James Payne   \n",
       "8221  Martin Scorsese|Michael Henry Wilson   \n",
       "\n",
       "                                             genres  \\\n",
       "3894                                    Documentary   \n",
       "538                                     Documentary   \n",
       "1200  Drama|Horror|Mystery|Science Fiction|Thriller   \n",
       "2269                                    Documentary   \n",
       "6911                                          Music   \n",
       "2401                                          Music   \n",
       "3224                                          Music   \n",
       "3690                          Adventure|Documentary   \n",
       "5830                                            NaN   \n",
       "8221                                    Documentary   \n",
       "\n",
       "                                production_companies release_date  \\\n",
       "3894                                             NaN   2011-09-03   \n",
       "538                                              NaN   2015-01-01   \n",
       "1200                                             NaN   2014-12-16   \n",
       "2269                                             NaN   2010-10-02   \n",
       "6911        SMV Enterprises|Columbia Music Video|EMI   2006-07-09   \n",
       "2401                                             NaN   2010-09-21   \n",
       "3224                                             NaN   2008-07-01   \n",
       "3690  Red Bull Media House|Brain Farm Digital Cinema   2011-09-08   \n",
       "5830                                             NaN   2013-12-25   \n",
       "8221      Miramax Films|British Film Institute (BFI)   1995-05-21   \n",
       "\n",
       "      vote_average  release_year  budget  revenue  rel_month  \n",
       "3894           9.2          2011     0.0      0.0          9  \n",
       "538            8.9          2015     0.0      0.0          1  \n",
       "1200           8.8          2014     0.0      0.0         12  \n",
       "2269           8.8          2010     0.0      0.0         10  \n",
       "6911           8.7          2006     0.0      0.0          7  \n",
       "2401           8.6          2010     0.0      0.0          9  \n",
       "3224           8.5          2008     0.0      0.0          7  \n",
       "3690           8.5          2011     0.0      0.0          9  \n",
       "5830           8.5          2013     0.0      0.0         12  \n",
       "8221           8.5          1995     0.0      0.0          5  "
      ]
     },
     "execution_count": 90,
     "metadata": {},
     "output_type": "execute_result"
    }
   ],
   "source": [
    "# top10 movies in terms of average vote\n",
    "df.nlargest(10, 'vote_average')"
   ]
  },
  {
   "cell_type": "code",
   "execution_count": 91,
   "metadata": {},
   "outputs": [
    {
     "data": {
      "text/plain": [
       "director\n",
       "Mark Cousins                                   9.2\n",
       "Derek Frankowski                               8.8\n",
       "David Mallet                                   8.7\n",
       "Curt Morgan                                    8.5\n",
       "James Payne                                    8.5\n",
       "Martin Scorsese|Michael Henry Wilson           8.5\n",
       "Saul Swimmer                                   8.5\n",
       "Anthony Mandler                                8.4\n",
       "D.A. Pennebaker|David Dawkins|Chris Hegedus    8.4\n",
       "Jorge RamÃ­rez SuÃ¡rez                         8.4\n",
       "Name: vote_average, dtype: float64"
      ]
     },
     "execution_count": 91,
     "metadata": {},
     "output_type": "execute_result"
    }
   ],
   "source": [
    "#top 10 directors in terms of average vote\n",
    "df['director'].nunique()\n",
    "df.groupby('director')['vote_average'].mean().nlargest(10)"
   ]
  },
  {
   "cell_type": "code",
   "execution_count": 92,
   "metadata": {},
   "outputs": [
    {
     "data": {
      "text/plain": [
       "Woody Allen          45\n",
       "Clint Eastwood       34\n",
       "Martin Scorsese      29\n",
       "Steven Spielberg     29\n",
       "Ridley Scott         23\n",
       "Ron Howard           22\n",
       "Steven Soderbergh    22\n",
       "Joel Schumacher      21\n",
       "Brian De Palma       20\n",
       "Wes Craven           19\n",
       "Name: director, dtype: int64"
      ]
     },
     "execution_count": 92,
     "metadata": {},
     "output_type": "execute_result"
    }
   ],
   "source": [
    "#top 10 directors in terms of number of movies directed\n",
    "df['director'].value_counts().nlargest(10)"
   ]
  },
  {
   "cell_type": "markdown",
   "metadata": {},
   "source": [
    "<a id='eda'></a>\n",
    "\n",
    "### Research Question 3 Movie Industry Insight ----Are more movies being produced over the years?  Are movie industry more profitable over the years?"
   ]
  },
  {
   "cell_type": "code",
   "execution_count": 93,
   "metadata": {},
   "outputs": [
    {
     "data": {
      "text/plain": [
       "<matplotlib.axes._subplots.AxesSubplot at 0x27dcc6fd4e0>"
      ]
     },
     "execution_count": 93,
     "metadata": {},
     "output_type": "execute_result"
    },
    {
     "data": {
      "image/png": "[encoded data removed]",
      "text/plain": [
       "<matplotlib.figure.Figure at 0x27dcbb87b00>"
      ]
     },
     "metadata": {},
     "output_type": "display_data"
    }
   ],
   "source": [
    "# more movies being produced over the years?\n",
    "ind = df['release_year'].value_counts().index\n",
    "df['release_year'].value_counts()[sorted(ind)].plot(kind='bar', figsize=(15,15))"
   ]
  },
  {
   "cell_type": "markdown",
   "metadata": {},
   "source": [
    ">Bar chart above shows generily speaking, more movies are being produced over years"
   ]
  },
  {
   "cell_type": "code",
   "execution_count": 94,
   "metadata": {
    "scrolled": true
   },
   "outputs": [
    {
     "data": {
      "text/plain": [
       "<matplotlib.axes._subplots.AxesSubplot at 0x27dcc0270b8>"
      ]
     },
     "execution_count": 94,
     "metadata": {},
     "output_type": "execute_result"
    },
    {
     "data": {
      "image/png": "[encoded data removed]",
      "text/plain": [
       "<matplotlib.figure.Figure at 0x27dcd707a90>"
      ]
     },
     "metadata": {},
     "output_type": "display_data"
    }
   ],
   "source": [
    "#annual investment in movie indsutry\n",
    "ind = df['release_year'].value_counts().index\n",
    "df.groupby('release_year')['budget'].sum().plot(kind='bar', figsize=(15,15))"
   ]
  },
  {
   "cell_type": "markdown",
   "metadata": {},
   "source": [
    ">and not suprisingly, more money are invested into movie industry over the years"
   ]
  },
  {
   "cell_type": "code",
   "execution_count": 95,
   "metadata": {
    "scrolled": true
   },
   "outputs": [
    {
     "data": {
      "text/plain": [
       "<matplotlib.axes._subplots.AxesSubplot at 0x27dcd7d8da0>"
      ]
     },
     "execution_count": 95,
     "metadata": {},
     "output_type": "execute_result"
    },
    {
     "data": {
      "image/png": "[encoded data removed]",
      "text/plain": [
       "<matplotlib.figure.Figure at 0x27dcd88ae10>"
      ]
     },
     "metadata": {},
     "output_type": "display_data"
    }
   ],
   "source": [
    "#annual RoI trend for movie industry roi = (revenue-budget)/budget\n",
    "ind = df['release_year'].value_counts().index\n",
    "annual_roi = (df.groupby('release_year')['revenue'].sum()-df.groupby('release_year')['budget'].sum())/df.groupby('release_year')['budget'].sum()\n",
    "annual_roi.plot(kind='bar', figsize=(15,15))"
   ]
  },
  {
   "cell_type": "markdown",
   "metadata": {},
   "source": [
    ">By looking into the RoI over the years how ever, it seems the golden time for Movie industries was back in the 70s when average annual RoI reached about 18%. Same value in 2015 is only a little more than 2.5%. Another possibility is there are long runner/super performer movies that gets higher cumulative RoI comparing to new movies.  "
   ]
  },
  {
   "cell_type": "markdown",
   "metadata": {},
   "source": [
    "<a id='eda'></a>\n",
    "### Research Question 3 Is a \"good\" movie always a market success?"
   ]
  },
  {
   "cell_type": "code",
   "execution_count": 138,
   "metadata": {},
   "outputs": [
    {
     "name": "stdout",
     "output_type": "stream",
     "text": [
      "<class 'pandas.core.frame.DataFrame'>\n",
      "RangeIndex: 2750 entries, 0 to 2749\n",
      "Data columns (total 16 columns):\n",
      "Unnamed: 0              2750 non-null int64\n",
      "Unnamed: 0.1            2750 non-null int64\n",
      "popularity              2750 non-null float64\n",
      "original_title          2750 non-null object\n",
      "cast                    2750 non-null object\n",
      "director                2750 non-null object\n",
      "genres                  2750 non-null object\n",
      "production_companies    2750 non-null object\n",
      "release_date            2750 non-null object\n",
      "vote_average            2750 non-null float64\n",
      "release_year            2750 non-null int64\n",
      "budget                  2750 non-null float64\n",
      "revenue                 2750 non-null float64\n",
      "rel_month               2750 non-null int64\n",
      "roi                     2750 non-null float64\n",
      "roi_log                 2750 non-null float64\n",
      "dtypes: float64(6), int64(4), object(6)\n",
      "memory usage: 343.8+ KB\n"
     ]
    }
   ],
   "source": [
    "# calculate roi(return on Investment) for each movie. roi = (revenue-budget)/budget\n",
    "#only do further cleaning focuing on revenue and budget so that data is not lost for previous analysis\n",
    "df['revenue'].replace(0, np.nan, inplace = True)\n",
    "df['budget'].replace(0, np.nan, inplace = True)\n",
    "df.replace([np.inf, -np.inf], np.nan, inplace = True)\n",
    "df.dropna(inplace = True)\n",
    "\n",
    "roi = (df.revenue-df.budget)/df.budget\n",
    "#calculate the lorithm of roi for each movie\n",
    "roi_log = np.log10((df.revenue-df.budget)/df.budget)\n",
    "#add new column roi into dataframe\n",
    "df['roi'] = roi\n",
    "df['roi_log'] = roi_log\n",
    "#remove inifinte RoI and NaN if any\n",
    "df.replace([np.inf, -np.inf], np.nan, inplace = True)\n",
    "df.dropna(inplace = True)\n",
    "df.reset_index(drop=True, inplace=True)\n",
    "df.to_csv('movie_roi.csv')\n",
    "df.info()\n",
    "#remove outliers\n",
    "\n",
    "#df.to_csv('movie_reduced.csv')"
   ]
  },
  {
   "cell_type": "markdown",
   "metadata": {},
   "source": [
    ">After further cleaning, only 2750 out of 10086 entries remains for further investigation. Entries being removed main have missing data or have non-sense info ---- or there maybe movies with super earnings being removed as well --- those data, even real, need to be removed, because their single presence may alter the global image.\n",
    "Therefore following investigation is performed on typical \"normal\" movie datas."
   ]
  },
  {
   "cell_type": "code",
   "execution_count": 145,
   "metadata": {},
   "outputs": [
    {
     "data": {
      "text/plain": [
       "<matplotlib.axes._subplots.AxesSubplot at 0x27dd07e44e0>"
      ]
     },
     "execution_count": 145,
     "metadata": {},
     "output_type": "execute_result"
    },
    {
     "data": {
      "image/png": "[encoded data removed]",
      "text/plain": [
       "<matplotlib.figure.Figure at 0x27dd07e4c18>"
      ]
     },
     "metadata": {},
     "output_type": "display_data"
    }
   ],
   "source": [
    "#plot scatter graph to show if there is correlation between vote and roi\n",
    "df = pd.read_csv('movie_roi.csv', encoding = \"ISO-8859-1\")\n",
    "df = df_roi[df_roi['roi_log'] < 1]\n",
    "df.reset_index(drop=True, inplace=True)\n",
    "df.plot.scatter(x='vote_average', y='roi')"
   ]
  },
  {
   "cell_type": "markdown",
   "metadata": {},
   "source": [
    ">The above scatter plotted shows the correlation between RoI and average voted score. The Graph indicates that a \"bad\" movie is less likely to become profitable. However, once the movie reaches a \"reasonable\" voted score, the score itself is not a good indicator for movie profitability any more, in fact, a movie which has a \"high\" score tends to be less profitable than movies with average scores."
   ]
  },
  {
   "cell_type": "markdown",
   "metadata": {},
   "source": [
    "<a id='eda'></a>\n",
    "### Research Question 4 Movie genre study, does certain genre related to a higher voted score or better RoI? "
   ]
  },
  {
   "cell_type": "code",
   "execution_count": 146,
   "metadata": {},
   "outputs": [
    {
     "data": {
      "text/html": [
       "<div>\n",
       "<style>\n",
       "    .dataframe thead tr:only-child th {\n",
       "        text-align: right;\n",
       "    }\n",
       "\n",
       "    .dataframe thead th {\n",
       "        text-align: left;\n",
       "    }\n",
       "\n",
       "    .dataframe tbody tr th {\n",
       "        vertical-align: top;\n",
       "    }\n",
       "</style>\n",
       "<table border=\"1\" class=\"dataframe\">\n",
       "  <thead>\n",
       "    <tr style=\"text-align: right;\">\n",
       "      <th></th>\n",
       "      <th>genre</th>\n",
       "      <th>roi</th>\n",
       "      <th>vote</th>\n",
       "    </tr>\n",
       "  </thead>\n",
       "  <tbody>\n",
       "    <tr>\n",
       "      <th>0</th>\n",
       "      <td>Action</td>\n",
       "      <td>9.090192</td>\n",
       "      <td>6.5</td>\n",
       "    </tr>\n",
       "    <tr>\n",
       "      <th>1</th>\n",
       "      <td>Adventure</td>\n",
       "      <td>9.090192</td>\n",
       "      <td>6.5</td>\n",
       "    </tr>\n",
       "  </tbody>\n",
       "</table>\n",
       "</div>"
      ],
      "text/plain": [
       "       genre       roi  vote\n",
       "0     Action  9.090192   6.5\n",
       "1  Adventure  9.090192   6.5"
      ]
     },
     "execution_count": 146,
     "metadata": {},
     "output_type": "execute_result"
    }
   ],
   "source": [
    "#split the genre, if certain genre promises higher ROI or average vote than others?\n",
    "\n",
    "#each movie may have more than one genre, therefore resulting in a list of array\n",
    "genre_array_list = df['genres'].str.split('|')\n",
    "#list container for seperate genre\n",
    "genre_list = []\n",
    "#list container for vote_average\n",
    "vote_list = []\n",
    "#list container for ROI\n",
    "roi_list = []\n",
    "\n",
    "#flatten the genre array list into a list with single genre per element. \n",
    "#roi and vote value needs to be repeated for each movie for number-of-genre times to align with the produced genre list\n",
    "for x in range(0, len(genre_array_list)-1):\n",
    "    genre_list = np.concatenate((genre_list,genre_array_list[x]),axis=0)\n",
    "    vote_list = np.concatenate((vote_list,np.repeat(df['vote_average'][x], len(genre_array_list[x]))),axis=0)\n",
    "    roi_list = np.concatenate((roi_list,np.repeat(df['roi'][x], len(genre_array_list[x]))),axis=0)  \n",
    "\n",
    "# combine the genre_list, vote_list and roi_list into single dataframe    \n",
    "df_genre = pd.DataFrame({'genre':genre_list,\n",
    "                         'vote' :vote_list,\n",
    "                         'roi'  :roi_list})\n",
    "\n",
    "# save result dataframe into a csv\n",
    "df_genre.to_csv('genre.csv', index=False)\n",
    "\n",
    "df_genre.head(2)"
   ]
  },
  {
   "cell_type": "code",
   "execution_count": 147,
   "metadata": {},
   "outputs": [
    {
     "data": {
      "text/plain": [
       "<matplotlib.axes._subplots.AxesSubplot at 0x27dd05a1208>"
      ]
     },
     "execution_count": 147,
     "metadata": {},
     "output_type": "execute_result"
    },
    {
     "data": {
      "image/png": "[encoded data removed]",
      "text/plain": [
       "<matplotlib.figure.Figure at 0x27dd0769ef0>"
      ]
     },
     "metadata": {},
     "output_type": "display_data"
    }
   ],
   "source": [
    "# plot average vote value for each genre\n",
    "df_genre.groupby('genre')['vote'].mean().plot('bar')"
   ]
  },
  {
   "cell_type": "raw",
   "metadata": {},
   "source": [
    ">Above bar chart shows the voted score doesn't differ too much among genres. \"Foreign\" outperform slightly than rest of the genres. TV Movie gets the lowest average voted score. "
   ]
  },
  {
   "cell_type": "code",
   "execution_count": 148,
   "metadata": {},
   "outputs": [
    {
     "data": {
      "text/plain": [
       "<matplotlib.axes._subplots.AxesSubplot at 0x27dcfeaef28>"
      ]
     },
     "execution_count": 148,
     "metadata": {},
     "output_type": "execute_result"
    },
    {
     "data": {
      "image/png": "[encoded data removed]",
      "text/plain": [
       "<matplotlib.figure.Figure at 0x27dce8d1f60>"
      ]
     },
     "metadata": {},
     "output_type": "display_data"
    }
   ],
   "source": [
    "# plot average ROI value for each genre\n",
    "df_genre.groupby('genre')['roi'].mean().plot('bar')"
   ]
  },
  {
   "cell_type": "markdown",
   "metadata": {
    "collapsed": true
   },
   "source": [
    ">The above grah explores the relation between RoI and movie genres. Genre \"TV Movie\" promises a best chance of success in terms of RoI, while \"Foreign\" are least profitable genre. (Possible reason is foreign is not acutally targeting US market???)\n",
    "\n"
   ]
  },
  {
   "cell_type": "code",
   "execution_count": 149,
   "metadata": {},
   "outputs": [
    {
     "data": {
      "text/plain": [
       "<matplotlib.axes._subplots.AxesSubplot at 0x27dcff207b8>"
      ]
     },
     "execution_count": 149,
     "metadata": {},
     "output_type": "execute_result"
    },
    {
     "data": {
      "image/png": "[encoded data removed]",
      "text/plain": [
       "<matplotlib.figure.Figure at 0x27dcff39320>"
      ]
     },
     "metadata": {},
     "output_type": "display_data"
    }
   ],
   "source": [
    "#plot the average RoI among release month\n",
    "#df.groupby('rel_month')['roi'].mean()  \n",
    "df.groupby('rel_month')['roi'].mean()[month_ind].plot(kind='bar')  "
   ]
  },
  {
   "cell_type": "markdown",
   "metadata": {},
   "source": [
    ">Movie RoI shows seasonal change as well, movies released in March, January and October are more profitable than other movies."
   ]
  },
  {
   "cell_type": "markdown",
   "metadata": {},
   "source": [
    "<a id='conclusions'></a>\n",
    "## Conclusions\n",
    "> The movie data helped to reveal top movies in terms of different criteria, which is a good hint for movie choosings.\n",
    "\n",
    ">The focus of the investigation is on the movie industry as a whole. The ultimate question I want to answer is, suppose I were a invester, I want to know if Movie industry is still a profitable industry worth entering. And should I entered the market, what factors shall I pay attention to when deciding which movie to invest.\n",
    "\n",
    ">For the global question, it seems over the years, movie industry is still growing as more movies are produced and more money are brought in each year. However, producing movie is on average less profitable than 70s.\n",
    "\n",
    "> For futher investigating factors that could influent movie's profitablitiy, I used RoI as the profitability indicator of a movie. during the project, RoI is checked against, genre, released_month and voted_score. Results show the most profitable movie genre is \"TV Movie\", the best release time is in may and \"Voted score\" is not always a deciding factor for movies'profitablity. these results could be used as a good investment guide reference.\n",
    "\n",
    "> **Limitations**: \n",
    "<ul>\n",
    "<li> The original data set may not contain all movies being produced during the time frame.</li>\n",
    "<li> The datas included in the data set have many missing values and become invaid for data analysis.</li>\n",
    "<li> When comparing movie produced in the past and in the modern time, the final result might be biased as \"good old\" movies have more time to accumulate voted score/profit.</li>\n",
    "<li> When investgating movies profitablity, each factor is being investidated seperately, One can not simply extend the conclusion to say \"a TV movie that release in May\" have the best chance in the market. </li>\n",
    "</ul>"
   ]
  },
  {
   "cell_type": "code",
   "execution_count": null,
   "metadata": {
    "collapsed": true
   },
   "outputs": [],
   "source": []
  }
 ],
 "metadata": {
  "kernelspec": {
   "display_name": "Python 3",
   "language": "python",
   "name": "python3"
  },
  "language_info": {
   "codemirror_mode": {
    "name": "ipython",
    "version": 3
   },
   "file_extension": ".py",
   "mimetype": "text/x-python",
   "name": "python",
   "nbconvert_exporter": "python",
   "pygments_lexer": "ipython3",
   "version": "3.6.3"
  }
 },
 "nbformat": 4,
 "nbformat_minor": 2
}
